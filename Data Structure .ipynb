{
 "cells": [
  {
   "cell_type": "markdown",
   "id": "1679cca7-ebc9-4062-a366-92613ac7c540",
   "metadata": {},
   "source": [
    "### List--> elements are seperated by comma and enclosed with square bracket\n",
    "### Heterogenous\n",
    "### List can be retrieved using index\n",
    "### Mutable i.e editable"
   ]
  },
  {
   "cell_type": "code",
   "execution_count": 6,
   "id": "d5371f80-77f7-47aa-aa8f-1b4e123f91aa",
   "metadata": {},
   "outputs": [
    {
     "data": {
      "text/plain": [
       "[12, 13.6, 'hi', 3, 10]"
      ]
     },
     "execution_count": 6,
     "metadata": {},
     "output_type": "execute_result"
    }
   ],
   "source": [
    "sample_list=[12,13.6,\"hi\",3,10]\n",
    "sample_list"
   ]
  },
  {
   "cell_type": "code",
   "execution_count": 7,
   "id": "2b4fa1b1-dd4f-4ba3-974e-6953a57047be",
   "metadata": {},
   "outputs": [
    {
     "data": {
      "text/plain": [
       "list"
      ]
     },
     "execution_count": 7,
     "metadata": {},
     "output_type": "execute_result"
    }
   ],
   "source": [
    "type (sample_list)"
   ]
  },
  {
   "cell_type": "code",
   "execution_count": 8,
   "id": "d858d71b-ef2d-479b-85d8-28dfd5c17519",
   "metadata": {},
   "outputs": [
    {
     "data": {
      "text/plain": [
       "12"
      ]
     },
     "execution_count": 8,
     "metadata": {},
     "output_type": "execute_result"
    }
   ],
   "source": [
    "sample_list[0]"
   ]
  },
  {
   "cell_type": "code",
   "execution_count": 9,
   "id": "2825cdda-4f72-4552-a1b5-7ac83075b426",
   "metadata": {},
   "outputs": [
    {
     "data": {
      "text/plain": [
       "'hi'"
      ]
     },
     "execution_count": 9,
     "metadata": {},
     "output_type": "execute_result"
    }
   ],
   "source": [
    "sample_list[2]"
   ]
  },
  {
   "cell_type": "code",
   "execution_count": 10,
   "id": "3f41082c-8851-4ea8-9006-47aca9c2835d",
   "metadata": {},
   "outputs": [
    {
     "data": {
      "text/plain": [
       "3"
      ]
     },
     "execution_count": 10,
     "metadata": {},
     "output_type": "execute_result"
    }
   ],
   "source": [
    "sample_list[-2]"
   ]
  },
  {
   "cell_type": "code",
   "execution_count": 12,
   "id": "f1958e19-88d8-4355-9ad2-feeac64d3f1a",
   "metadata": {},
   "outputs": [
    {
     "ename": "IndexError",
     "evalue": "list index out of range",
     "output_type": "error",
     "traceback": [
      "\u001b[0;31m---------------------------------------------------------------------------\u001b[0m",
      "\u001b[0;31mIndexError\u001b[0m                                Traceback (most recent call last)",
      "\u001b[0;32m/var/folders/3f/ghqtrcbd661bf5rvmhpsnyx40000gn/T/ipykernel_1894/475477669.py\u001b[0m in \u001b[0;36m<module>\u001b[0;34m\u001b[0m\n\u001b[0;32m----> 1\u001b[0;31m \u001b[0msample_list\u001b[0m \u001b[0;34m[\u001b[0m\u001b[0;36m10\u001b[0m\u001b[0;34m]\u001b[0m\u001b[0;34m\u001b[0m\u001b[0;34m\u001b[0m\u001b[0m\n\u001b[0m",
      "\u001b[0;31mIndexError\u001b[0m: list index out of range"
     ]
    }
   ],
   "source": [
    "sample_list [10]"
   ]
  },
  {
   "cell_type": "code",
   "execution_count": 14,
   "id": "e626ba5b-8b35-4899-95ad-d13ca8444298",
   "metadata": {},
   "outputs": [
    {
     "data": {
      "text/plain": [
       "[100, 13.6, 'hi', 3, 10]"
      ]
     },
     "execution_count": 14,
     "metadata": {},
     "output_type": "execute_result"
    }
   ],
   "source": [
    "sample_list[0]=100\n",
    "sample_list"
   ]
  },
  {
   "cell_type": "markdown",
   "id": "85b61c09-da25-450d-bd0c-4ba910ff3efd",
   "metadata": {},
   "source": [
    "### Tuple\n",
    "### Heterogenous\n",
    "### Paranthesis\n",
    "### can retrieve data using index\n",
    "### IMMUTABLE\n"
   ]
  },
  {
   "cell_type": "code",
   "execution_count": 15,
   "id": "97e70f10-7da7-4353-a838-46fd88530a1b",
   "metadata": {},
   "outputs": [
    {
     "data": {
      "text/plain": [
       "(12, 13.6, 'hi', 3, 10)"
      ]
     },
     "execution_count": 15,
     "metadata": {},
     "output_type": "execute_result"
    }
   ],
   "source": [
    "sample_tuple=(12,13.6,\"hi\",3,10)\n",
    "sample_tuple"
   ]
  },
  {
   "cell_type": "code",
   "execution_count": 16,
   "id": "56680714-774f-4802-9934-c73bdef812e8",
   "metadata": {},
   "outputs": [
    {
     "data": {
      "text/plain": [
       "tuple"
      ]
     },
     "execution_count": 16,
     "metadata": {},
     "output_type": "execute_result"
    }
   ],
   "source": [
    "type (sample_tuple)"
   ]
  },
  {
   "cell_type": "code",
   "execution_count": 17,
   "id": "ff0b25f1-3e34-4fac-adfb-b25b657070bf",
   "metadata": {},
   "outputs": [
    {
     "data": {
      "text/plain": [
       "12"
      ]
     },
     "execution_count": 17,
     "metadata": {},
     "output_type": "execute_result"
    }
   ],
   "source": [
    "sample_tuple[0]"
   ]
  },
  {
   "cell_type": "code",
   "execution_count": 18,
   "id": "44a97cb7-aa58-467d-aac7-b87c0f7e6d65",
   "metadata": {},
   "outputs": [
    {
     "data": {
      "text/plain": [
       "3"
      ]
     },
     "execution_count": 18,
     "metadata": {},
     "output_type": "execute_result"
    }
   ],
   "source": [
    "sample_tuple[3]"
   ]
  },
  {
   "cell_type": "code",
   "execution_count": 19,
   "id": "7acf3400-7645-45c0-b7e2-675df5317a70",
   "metadata": {},
   "outputs": [
    {
     "data": {
      "text/plain": [
       "13.6"
      ]
     },
     "execution_count": 19,
     "metadata": {},
     "output_type": "execute_result"
    }
   ],
   "source": [
    "sample_tuple[-4]"
   ]
  },
  {
   "cell_type": "code",
   "execution_count": 20,
   "id": "900ea004-1460-4563-9f64-a9c9d5a06acd",
   "metadata": {},
   "outputs": [
    {
     "ename": "IndexError",
     "evalue": "tuple index out of range",
     "output_type": "error",
     "traceback": [
      "\u001b[0;31m---------------------------------------------------------------------------\u001b[0m",
      "\u001b[0;31mIndexError\u001b[0m                                Traceback (most recent call last)",
      "\u001b[0;32m/var/folders/3f/ghqtrcbd661bf5rvmhpsnyx40000gn/T/ipykernel_1894/802060474.py\u001b[0m in \u001b[0;36m<module>\u001b[0;34m\u001b[0m\n\u001b[0;32m----> 1\u001b[0;31m \u001b[0msample_tuple\u001b[0m\u001b[0;34m[\u001b[0m\u001b[0;36m10\u001b[0m\u001b[0;34m]\u001b[0m\u001b[0;34m\u001b[0m\u001b[0;34m\u001b[0m\u001b[0m\n\u001b[0m",
      "\u001b[0;31mIndexError\u001b[0m: tuple index out of range"
     ]
    }
   ],
   "source": [
    "sample_tuple[10]"
   ]
  },
  {
   "cell_type": "code",
   "execution_count": 22,
   "id": "5bb29315-95e0-4709-be8c-cb97a779891e",
   "metadata": {},
   "outputs": [
    {
     "ename": "TypeError",
     "evalue": "'tuple' object does not support item assignment",
     "output_type": "error",
     "traceback": [
      "\u001b[0;31m---------------------------------------------------------------------------\u001b[0m",
      "\u001b[0;31mTypeError\u001b[0m                                 Traceback (most recent call last)",
      "\u001b[0;32m/var/folders/3f/ghqtrcbd661bf5rvmhpsnyx40000gn/T/ipykernel_1894/3484981439.py\u001b[0m in \u001b[0;36m<module>\u001b[0;34m\u001b[0m\n\u001b[0;32m----> 1\u001b[0;31m \u001b[0msample_tuple\u001b[0m\u001b[0;34m[\u001b[0m\u001b[0;36m0\u001b[0m\u001b[0;34m]\u001b[0m\u001b[0;34m=\u001b[0m\u001b[0;36m100\u001b[0m\u001b[0;34m\u001b[0m\u001b[0;34m\u001b[0m\u001b[0m\n\u001b[0m",
      "\u001b[0;31mTypeError\u001b[0m: 'tuple' object does not support item assignment"
     ]
    }
   ],
   "source": [
    "sample_tuple[0]=100"
   ]
  },
  {
   "cell_type": "markdown",
   "id": "0bafbad3-40e9-41a7-9260-e6ec238eddf6",
   "metadata": {},
   "source": [
    "### Set\n",
    "### Does not allow duplicates\n",
    "### Ordered-First Place\n",
    "### In a set, elements cannot be retrieved using index\n",
    "### Set is mutable"
   ]
  },
  {
   "cell_type": "code",
   "execution_count": 41,
   "id": "321d778c-72ac-485f-9eea-2e8d2c5f1b5a",
   "metadata": {},
   "outputs": [
    {
     "data": {
      "text/plain": [
       "{1, 127, 13.6, 25, 28, 'apple', 'ball', 'hi', 'king'}"
      ]
     },
     "execution_count": 41,
     "metadata": {},
     "output_type": "execute_result"
    }
   ],
   "source": [
    "sample_set={1,13.6,25,\"hi\",127,28,25,13.6,\"apple\",\"king\",\"ball\"}\n",
    "sample_set"
   ]
  },
  {
   "cell_type": "code",
   "execution_count": 25,
   "id": "82c1e04e-c99d-44ec-a619-74680259e7de",
   "metadata": {},
   "outputs": [
    {
     "ename": "TypeError",
     "evalue": "'set' object is not subscriptable",
     "output_type": "error",
     "traceback": [
      "\u001b[0;31m---------------------------------------------------------------------------\u001b[0m",
      "\u001b[0;31mTypeError\u001b[0m                                 Traceback (most recent call last)",
      "\u001b[0;32m/var/folders/3f/ghqtrcbd661bf5rvmhpsnyx40000gn/T/ipykernel_1894/3254054574.py\u001b[0m in \u001b[0;36m<module>\u001b[0;34m\u001b[0m\n\u001b[0;32m----> 1\u001b[0;31m \u001b[0msample_set\u001b[0m\u001b[0;34m[\u001b[0m\u001b[0;36m1\u001b[0m\u001b[0;34m]\u001b[0m\u001b[0;34m\u001b[0m\u001b[0;34m\u001b[0m\u001b[0m\n\u001b[0m",
      "\u001b[0;31mTypeError\u001b[0m: 'set' object is not subscriptable"
     ]
    }
   ],
   "source": [
    "sample_set[1]"
   ]
  },
  {
   "cell_type": "code",
   "execution_count": 26,
   "id": "a1a6ddbd-02c7-4516-aac9-fadc1cbcfa07",
   "metadata": {},
   "outputs": [
    {
     "ename": "TypeError",
     "evalue": "'set' object does not support item assignment",
     "output_type": "error",
     "traceback": [
      "\u001b[0;31m---------------------------------------------------------------------------\u001b[0m",
      "\u001b[0;31mTypeError\u001b[0m                                 Traceback (most recent call last)",
      "\u001b[0;32m/var/folders/3f/ghqtrcbd661bf5rvmhpsnyx40000gn/T/ipykernel_1894/2324667593.py\u001b[0m in \u001b[0;36m<module>\u001b[0;34m\u001b[0m\n\u001b[0;32m----> 1\u001b[0;31m \u001b[0msample_set\u001b[0m\u001b[0;34m[\u001b[0m\u001b[0;36m0\u001b[0m\u001b[0;34m]\u001b[0m\u001b[0;34m=\u001b[0m\u001b[0;36m10\u001b[0m\u001b[0;34m\u001b[0m\u001b[0;34m\u001b[0m\u001b[0m\n\u001b[0m",
      "\u001b[0;31mTypeError\u001b[0m: 'set' object does not support item assignment"
     ]
    }
   ],
   "source": [
    "sample_set[0]=10"
   ]
  },
  {
   "cell_type": "code",
   "execution_count": 28,
   "id": "0d2b0bef-0eb1-4c24-8c9f-10e902fde7e8",
   "metadata": {},
   "outputs": [
    {
     "data": {
      "text/plain": [
       "{1, 127, 13.6, 20, 25, 28, 'hi'}"
      ]
     },
     "execution_count": 40,
     "metadata": {},
     "output_type": "execute_result"
    }
   ],
   "source": [
    "sample_set.add(20)\n",
    "sample_set"
   ]
  },
  {
   "cell_type": "code",
   "execution_count": 42,
   "id": "fa41a9ae-7264-44f9-9236-9a0845125626",
   "metadata": {},
   "outputs": [
    {
     "data": {
      "text/plain": [
       "{1, 127, 13.6, 25, 28, 'apple', 'hi', 'king'}"
      ]
     },
     "execution_count": 42,
     "metadata": {},
     "output_type": "execute_result"
    }
   ],
   "source": [
    "sample_set.remove(\"ball\")\n",
    "sample_set"
   ]
  },
  {
   "cell_type": "markdown",
   "id": "94bd7596-76ac-4cc6-8be6-7a78fade5da2",
   "metadata": {},
   "source": [
    "### Dictionary\n",
    "### has key-value pair data structure\n",
    "### key is unique\n",
    "### Values can be duplicated\n",
    "#### Value can be retrieved using key\n",
    "#### Key cannot be retrieved using value"
   ]
  },
  {
   "cell_type": "code",
   "execution_count": 44,
   "id": "3bbf801d-5874-44a4-ba9c-da80004d534e",
   "metadata": {},
   "outputs": [
    {
     "data": {
      "text/plain": [
       "{1: 'apple', 2: 'hi', 4: 'data', 6: 27.36, 7: 82}"
      ]
     },
     "execution_count": 44,
     "metadata": {},
     "output_type": "execute_result"
    }
   ],
   "source": [
    "sample_dict={1:\"apple\",2:35.6,4:\"data\",2:\"king\",6:27.36,7:82,2:\"hi\"}\n",
    "sample_dict"
   ]
  },
  {
   "cell_type": "code",
   "execution_count": 45,
   "id": "f285c51b-765b-4b7b-8030-c9c195eb7036",
   "metadata": {},
   "outputs": [
    {
     "data": {
      "text/plain": [
       "'hi'"
      ]
     },
     "execution_count": 45,
     "metadata": {},
     "output_type": "execute_result"
    }
   ],
   "source": [
    "sample_dict[2]"
   ]
  },
  {
   "cell_type": "code",
   "execution_count": 47,
   "id": "fa9e3371-d2c5-4793-86d8-2f143796a3cd",
   "metadata": {},
   "outputs": [
    {
     "ename": "KeyError",
     "evalue": "'apple'",
     "output_type": "error",
     "traceback": [
      "\u001b[0;31m---------------------------------------------------------------------------\u001b[0m",
      "\u001b[0;31mKeyError\u001b[0m                                  Traceback (most recent call last)",
      "\u001b[0;32m/var/folders/3f/ghqtrcbd661bf5rvmhpsnyx40000gn/T/ipykernel_1894/4087908590.py\u001b[0m in \u001b[0;36m<module>\u001b[0;34m\u001b[0m\n\u001b[0;32m----> 1\u001b[0;31m \u001b[0msample_dict\u001b[0m\u001b[0;34m[\u001b[0m\u001b[0;34m\"apple\"\u001b[0m\u001b[0;34m]\u001b[0m\u001b[0;34m\u001b[0m\u001b[0;34m\u001b[0m\u001b[0m\n\u001b[0m",
      "\u001b[0;31mKeyError\u001b[0m: 'apple'"
     ]
    }
   ],
   "source": [
    "sample_dict[\"apple\"]"
   ]
  },
  {
   "cell_type": "code",
   "execution_count": 52,
   "id": "a02ef023-0d5e-443b-af76-b17fe5fd124f",
   "metadata": {},
   "outputs": [
    {
     "data": {
      "text/plain": [
       "{1: 'apple', 2: 'hi', 4: 'data', 6: 66, 7: 82, 10: 'new'}"
      ]
     },
     "execution_count": 52,
     "metadata": {},
     "output_type": "execute_result"
    }
   ],
   "source": [
    "sample_dict[6]=66\n",
    "sample_dict"
   ]
  },
  {
   "cell_type": "code",
   "execution_count": 50,
   "id": "db1f2a04-3e94-4048-9cc6-32c31ce0ba74",
   "metadata": {},
   "outputs": [
    {
     "data": {
      "text/plain": [
       "{1: 'apple', 2: 'hi', 4: 'data', 6: 27.36, 7: 82, 10: 'new'}"
      ]
     },
     "execution_count": 50,
     "metadata": {},
     "output_type": "execute_result"
    }
   ],
   "source": [
    "sample_dict[10]=\"new\"\n",
    "sample_dict"
   ]
  },
  {
   "cell_type": "code",
   "execution_count": 51,
   "id": "a3c5d593-bb8e-48f3-a17f-ddb2ebd2e45c",
   "metadata": {},
   "outputs": [
    {
     "ename": "AttributeError",
     "evalue": "'dict' object has no attribute 'remove'",
     "output_type": "error",
     "traceback": [
      "\u001b[0;31m---------------------------------------------------------------------------\u001b[0m",
      "\u001b[0;31mAttributeError\u001b[0m                            Traceback (most recent call last)",
      "\u001b[0;32m/var/folders/3f/ghqtrcbd661bf5rvmhpsnyx40000gn/T/ipykernel_1894/600399803.py\u001b[0m in \u001b[0;36m<module>\u001b[0;34m\u001b[0m\n\u001b[0;32m----> 1\u001b[0;31m \u001b[0msample_dict\u001b[0m\u001b[0;34m.\u001b[0m\u001b[0mremove\u001b[0m\u001b[0;34m[\u001b[0m\u001b[0;36m10\u001b[0m\u001b[0;34m]\u001b[0m\u001b[0;34m\u001b[0m\u001b[0;34m\u001b[0m\u001b[0m\n\u001b[0m\u001b[1;32m      2\u001b[0m \u001b[0msample_dict\u001b[0m\u001b[0;34m\u001b[0m\u001b[0;34m\u001b[0m\u001b[0m\n",
      "\u001b[0;31mAttributeError\u001b[0m: 'dict' object has no attribute 'remove'"
     ]
    }
   ],
   "source": [
    "sample_dict.remove[10]\n",
    "sample_dict"
   ]
  },
  {
   "cell_type": "code",
   "execution_count": null,
   "id": "dc5160f7-d37f-4c6d-9f92-8fa2a1ad0607",
   "metadata": {},
   "outputs": [],
   "source": []
  }
 ],
 "metadata": {
  "kernelspec": {
   "display_name": "Python 3 (ipykernel)",
   "language": "python",
   "name": "python3"
  },
  "language_info": {
   "codemirror_mode": {
    "name": "ipython",
    "version": 3
   },
   "file_extension": ".py",
   "mimetype": "text/x-python",
   "name": "python",
   "nbconvert_exporter": "python",
   "pygments_lexer": "ipython3",
   "version": "3.9.13"
  }
 },
 "nbformat": 4,
 "nbformat_minor": 5
}
