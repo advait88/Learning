{
 "cells": [
  {
   "cell_type": "code",
   "execution_count": 1,
   "id": "4c664f84-08f2-4e54-b21f-4700596e24d9",
   "metadata": {},
   "outputs": [
    {
     "name": "stdout",
     "output_type": "stream",
     "text": [
      "hello\n"
     ]
    }
   ],
   "source": [
    "print(\"hello\")"
   ]
  },
  {
   "cell_type": "code",
   "execution_count": 2,
   "id": "4e979f7f-0120-40c4-af92-2a4dff103c0e",
   "metadata": {},
   "outputs": [
    {
     "name": "stdout",
     "output_type": "stream",
     "text": [
      "Advait\n"
     ]
    }
   ],
   "source": [
    "print(\"Advait\")"
   ]
  },
  {
   "cell_type": "code",
   "execution_count": 4,
   "id": "573b0d5c-9f9b-4dfe-a73f-8909c138a8ce",
   "metadata": {},
   "outputs": [
    {
     "ename": "NameError",
     "evalue": "name 'Print' is not defined",
     "output_type": "error",
     "traceback": [
      "\u001b[0;31m---------------------------------------------------------------------------\u001b[0m",
      "\u001b[0;31mNameError\u001b[0m                                 Traceback (most recent call last)",
      "\u001b[0;32m/var/folders/3f/ghqtrcbd661bf5rvmhpsnyx40000gn/T/ipykernel_2103/1308502018.py\u001b[0m in \u001b[0;36m<module>\u001b[0;34m\u001b[0m\n\u001b[0;32m----> 1\u001b[0;31m \u001b[0mPrint\u001b[0m\u001b[0;34m(\u001b[0m\u001b[0;34m\"Advait\"\u001b[0m\u001b[0;34m)\u001b[0m\u001b[0;34m\u001b[0m\u001b[0;34m\u001b[0m\u001b[0m\n\u001b[0m",
      "\u001b[0;31mNameError\u001b[0m: name 'Print' is not defined"
     ]
    }
   ],
   "source": [
    "Print(\"Advait\")"
   ]
  },
  {
   "cell_type": "markdown",
   "id": "f7b1f1a0-3f26-4973-8204-cd23bb4a5d72",
   "metadata": {},
   "source": [
    "#### Basics"
   ]
  },
  {
   "cell_type": "markdown",
   "id": "e5a0c081-baf1-4f07-98b4-4c3b2146dd65",
   "metadata": {},
   "source": [
    "###### Basics"
   ]
  },
  {
   "cell_type": "markdown",
   "id": "177a0952-b5a8-4969-8203-b4f675ee2a3e",
   "metadata": {
    "tags": []
   },
   "source": [
    "### Basics"
   ]
  },
  {
   "cell_type": "code",
   "execution_count": 3,
   "id": "bdbda7a1-6a86-495a-aff8-af61afb592b8",
   "metadata": {},
   "outputs": [
    {
     "data": {
      "text/plain": [
       "10"
      ]
     },
     "execution_count": 3,
     "metadata": {},
     "output_type": "execute_result"
    }
   ],
   "source": [
    "x=10\n",
    "x"
   ]
  },
  {
   "cell_type": "code",
   "execution_count": 4,
   "id": "45f9eff5-4d31-41dd-897b-ed63f39ff27a",
   "metadata": {},
   "outputs": [
    {
     "name": "stdout",
     "output_type": "stream",
     "text": [
      "10\n"
     ]
    }
   ],
   "source": [
    "print (x)"
   ]
  },
  {
   "cell_type": "code",
   "execution_count": 5,
   "id": "222de7db-d06d-49c6-9239-bd841d3ec03e",
   "metadata": {},
   "outputs": [
    {
     "data": {
      "text/plain": [
       "100"
      ]
     },
     "execution_count": 5,
     "metadata": {},
     "output_type": "execute_result"
    }
   ],
   "source": [
    "y=100\n",
    "y"
   ]
  },
  {
   "cell_type": "code",
   "execution_count": 6,
   "id": "9a565814-39f3-4448-bfef-f43c4cd20d50",
   "metadata": {},
   "outputs": [
    {
     "data": {
      "text/plain": [
       "'Advait'"
      ]
     },
     "execution_count": 6,
     "metadata": {},
     "output_type": "execute_result"
    }
   ],
   "source": [
    "name=\"Advait\"\n",
    "name"
   ]
  },
  {
   "cell_type": "code",
   "execution_count": 7,
   "id": "0e6dd701-269f-4a5c-8e49-af901f3e9bd0",
   "metadata": {},
   "outputs": [
    {
     "data": {
      "text/plain": [
       "'Advait'"
      ]
     },
     "execution_count": 7,
     "metadata": {},
     "output_type": "execute_result"
    }
   ],
   "source": [
    "name=\"Advait\"\n",
    "Gender=\"M\"\n",
    "Age=\"34\"\n",
    "name"
   ]
  },
  {
   "cell_type": "code",
   "execution_count": 8,
   "id": "181a7051-63ad-4f43-9410-39beabef83d4",
   "metadata": {},
   "outputs": [
    {
     "name": "stdout",
     "output_type": "stream",
     "text": [
      "Advait\n",
      "M\n",
      "34\n"
     ]
    }
   ],
   "source": [
    "print(name)\n",
    "print(Gender)\n",
    "print(Age)"
   ]
  },
  {
   "cell_type": "code",
   "execution_count": 9,
   "id": "ce0c565a-9398-4f3e-bbf0-3660808a9592",
   "metadata": {},
   "outputs": [
    {
     "name": "stdout",
     "output_type": "stream",
     "text": [
      "Advait M 34\n"
     ]
    }
   ],
   "source": [
    "print(name,Gender,Age)"
   ]
  },
  {
   "cell_type": "code",
   "execution_count": 11,
   "id": "2be49ed5-ea0a-45f6-b940-7b8d92658965",
   "metadata": {},
   "outputs": [
    {
     "ename": "NameError",
     "evalue": "name 'gender' is not defined",
     "output_type": "error",
     "traceback": [
      "\u001b[0;31m---------------------------------------------------------------------------\u001b[0m",
      "\u001b[0;31mNameError\u001b[0m                                 Traceback (most recent call last)",
      "\u001b[0;32m/var/folders/3f/ghqtrcbd661bf5rvmhpsnyx40000gn/T/ipykernel_832/546551380.py\u001b[0m in \u001b[0;36m<module>\u001b[0;34m\u001b[0m\n\u001b[0;32m----> 1\u001b[0;31m \u001b[0mgender\u001b[0m \u001b[0;31m###Case sensitive\u001b[0m\u001b[0;34m\u001b[0m\u001b[0;34m\u001b[0m\u001b[0m\n\u001b[0m",
      "\u001b[0;31mNameError\u001b[0m: name 'gender' is not defined"
     ]
    }
   ],
   "source": [
    "gender ###Case sensitive"
   ]
  },
  {
   "cell_type": "code",
   "execution_count": 12,
   "id": "8ee54abc-7153-4363-be53-71194221a115",
   "metadata": {},
   "outputs": [
    {
     "data": {
      "text/plain": [
       "'Advait'"
      ]
     },
     "execution_count": 12,
     "metadata": {},
     "output_type": "execute_result"
    }
   ],
   "source": [
    "y=16\n",
    "x='Advait'\n",
    "y\n",
    "x"
   ]
  },
  {
   "cell_type": "code",
   "execution_count": 13,
   "id": "15e75798-8704-4def-91a1-fff90d9e9c6f",
   "metadata": {},
   "outputs": [
    {
     "data": {
      "text/plain": [
       "('Advait', 16)"
      ]
     },
     "execution_count": 13,
     "metadata": {},
     "output_type": "execute_result"
    }
   ],
   "source": [
    "x,y"
   ]
  },
  {
   "cell_type": "code",
   "execution_count": 14,
   "id": "5da57e6a-0dcf-4d92-97b0-d5a1af22dd92",
   "metadata": {},
   "outputs": [
    {
     "data": {
      "text/plain": [
       "(16, 'Advait')"
      ]
     },
     "execution_count": 14,
     "metadata": {},
     "output_type": "execute_result"
    }
   ],
   "source": [
    "y,x"
   ]
  },
  {
   "cell_type": "code",
   "execution_count": 15,
   "id": "ebe6091a-71a9-4b67-b92f-4cfe7047c55c",
   "metadata": {},
   "outputs": [
    {
     "name": "stdout",
     "output_type": "stream",
     "text": [
      "Advait 16\n"
     ]
    }
   ],
   "source": [
    "print(x,y)"
   ]
  },
  {
   "cell_type": "code",
   "execution_count": 16,
   "id": "2e8ae3a9-f7a9-4daf-96de-dc84085b96d7",
   "metadata": {},
   "outputs": [
    {
     "data": {
      "text/plain": [
       "16"
      ]
     },
     "execution_count": 16,
     "metadata": {},
     "output_type": "execute_result"
    }
   ],
   "source": [
    "z=y\n",
    "z"
   ]
  },
  {
   "cell_type": "code",
   "execution_count": 19,
   "id": "1609e638-61c5-42a1-bab5-11bdde61f57d",
   "metadata": {},
   "outputs": [
    {
     "name": "stdout",
     "output_type": "stream",
     "text": [
      "Asdf\n"
     ]
    }
   ],
   "source": [
    "x=y=z=\"Asdf\"\n",
    "print (y)"
   ]
  },
  {
   "cell_type": "code",
   "execution_count": 20,
   "id": "b45f4b59-0fa0-4c98-9ed2-a72ee0a946c1",
   "metadata": {},
   "outputs": [
    {
     "data": {
      "text/plain": [
       "'Asdf'"
      ]
     },
     "execution_count": 20,
     "metadata": {},
     "output_type": "execute_result"
    }
   ],
   "source": [
    "y"
   ]
  },
  {
   "cell_type": "code",
   "execution_count": 21,
   "id": "ad0d4146-d8db-4355-bef6-db69f0c200e2",
   "metadata": {},
   "outputs": [
    {
     "data": {
      "text/plain": [
       "'Asdf'"
      ]
     },
     "execution_count": 21,
     "metadata": {},
     "output_type": "execute_result"
    }
   ],
   "source": [
    "x"
   ]
  },
  {
   "cell_type": "code",
   "execution_count": 22,
   "id": "185a406b-d647-4ff0-ae10-43f9151b3dc2",
   "metadata": {},
   "outputs": [
    {
     "data": {
      "text/plain": [
       "'Asdf'"
      ]
     },
     "execution_count": 22,
     "metadata": {},
     "output_type": "execute_result"
    }
   ],
   "source": [
    "z"
   ]
  },
  {
   "cell_type": "markdown",
   "id": "d04a61d8-4fb1-4177-9365-9b1bc7fb3712",
   "metadata": {},
   "source": [
    "### Rules for naming variables"
   ]
  },
  {
   "cell_type": "markdown",
   "id": "5d2c62b9-23f5-4984-a821-a8ec89b34dd4",
   "metadata": {},
   "source": [
    "##### Variables can have alphabats (A-Z),(a-z)"
   ]
  },
  {
   "cell_type": "markdown",
   "id": "15bad17d-02a0-4410-a6bb-3e09d1709ede",
   "metadata": {},
   "source": [
    "#### Variable name should not start with a number"
   ]
  },
  {
   "cell_type": "markdown",
   "id": "be35928e-51ac-4a57-84c2-794e884a2a39",
   "metadata": {},
   "source": [
    "#### Variable name should not start with a number"
   ]
  },
  {
   "cell_type": "markdown",
   "id": "e92f26b5-280f-4b12-a1e2-71d8d35b1a2a",
   "metadata": {},
   "source": [
    "#### Variable names do not allow spl characters other than underscore"
   ]
  },
  {
   "cell_type": "markdown",
   "id": "297a8b74-b8e6-420f-b42c-12a077a34cad",
   "metadata": {},
   "source": [
    "#### Case Sensitive"
   ]
  },
  {
   "cell_type": "code",
   "execution_count": 26,
   "id": "bb0737ab-234b-4a95-bb17-9e8ea8209816",
   "metadata": {},
   "outputs": [
    {
     "data": {
      "text/plain": [
       "'advait,age'"
      ]
     },
     "execution_count": 26,
     "metadata": {},
     "output_type": "execute_result"
    }
   ],
   "source": [
    "books='advait,age'\n",
    "books"
   ]
  },
  {
   "cell_type": "code",
   "execution_count": 27,
   "id": "c4e20aab-a932-4406-be40-bd034d89688b",
   "metadata": {},
   "outputs": [
    {
     "data": {
      "text/plain": [
       "'advait,age'"
      ]
     },
     "execution_count": 27,
     "metadata": {},
     "output_type": "execute_result"
    }
   ],
   "source": [
    "books"
   ]
  },
  {
   "cell_type": "code",
   "execution_count": 28,
   "id": "c85febd2-6cc1-435b-b044-5b8d76f1697f",
   "metadata": {},
   "outputs": [
    {
     "ename": "SyntaxError",
     "evalue": "invalid syntax (943349006.py, line 1)",
     "output_type": "error",
     "traceback": [
      "\u001b[0;36m  File \u001b[0;32m\"/var/folders/3f/ghqtrcbd661bf5rvmhpsnyx40000gn/T/ipykernel_832/943349006.py\"\u001b[0;36m, line \u001b[0;32m1\u001b[0m\n\u001b[0;31m    4books='advait'\u001b[0m\n\u001b[0m     ^\u001b[0m\n\u001b[0;31mSyntaxError\u001b[0m\u001b[0;31m:\u001b[0m invalid syntax\n"
     ]
    }
   ],
   "source": [
    "4books='advait'\n",
    "4books"
   ]
  },
  {
   "cell_type": "code",
   "execution_count": 30,
   "id": "29edc851-689c-4ab8-9aa4-383e3359ea34",
   "metadata": {},
   "outputs": [
    {
     "data": {
      "text/plain": [
       "'advait'"
      ]
     },
     "execution_count": 30,
     "metadata": {},
     "output_type": "execute_result"
    }
   ],
   "source": [
    "b4ooks='advait'\n",
    "b4ooks"
   ]
  },
  {
   "cell_type": "code",
   "execution_count": 31,
   "id": "46c6bdde-082d-4c0e-b5b9-6d9a4bc27553",
   "metadata": {},
   "outputs": [
    {
     "ename": "SyntaxError",
     "evalue": "cannot assign to operator (1204874505.py, line 1)",
     "output_type": "error",
     "traceback": [
      "\u001b[0;36m  File \u001b[0;32m\"/var/folders/3f/ghqtrcbd661bf5rvmhpsnyx40000gn/T/ipykernel_832/1204874505.py\"\u001b[0;36m, line \u001b[0;32m1\u001b[0m\n\u001b[0;31m    books*lists='advait'\u001b[0m\n\u001b[0m    ^\u001b[0m\n\u001b[0;31mSyntaxError\u001b[0m\u001b[0;31m:\u001b[0m cannot assign to operator\n"
     ]
    }
   ],
   "source": [
    "books*lists='advait'\n",
    "books*lists"
   ]
  },
  {
   "cell_type": "code",
   "execution_count": 33,
   "id": "38733252-1fe0-44df-838b-f457d8886e59",
   "metadata": {},
   "outputs": [
    {
     "data": {
      "text/plain": [
       "'advait'"
      ]
     },
     "execution_count": 33,
     "metadata": {},
     "output_type": "execute_result"
    }
   ],
   "source": [
    "books_lists='advait'\n",
    "books_lists"
   ]
  },
  {
   "cell_type": "code",
   "execution_count": 34,
   "id": "ef5f86a8-b178-4bad-9419-d27aff113b64",
   "metadata": {},
   "outputs": [
    {
     "data": {
      "text/plain": [
       "'advait'"
      ]
     },
     "execution_count": 34,
     "metadata": {},
     "output_type": "execute_result"
    }
   ],
   "source": [
    "_books='advait'\n",
    "_books"
   ]
  },
  {
   "cell_type": "code",
   "execution_count": 35,
   "id": "096d4b5a-7085-4716-b095-ac95edf1200b",
   "metadata": {},
   "outputs": [
    {
     "ename": "SyntaxError",
     "evalue": "invalid syntax (1972886282.py, line 1)",
     "output_type": "error",
     "traceback": [
      "\u001b[0;36m  File \u001b[0;32m\"/var/folders/3f/ghqtrcbd661bf5rvmhpsnyx40000gn/T/ipykernel_832/1972886282.py\"\u001b[0;36m, line \u001b[0;32m1\u001b[0m\n\u001b[0;31m    book names='advait'\u001b[0m\n\u001b[0m         ^\u001b[0m\n\u001b[0;31mSyntaxError\u001b[0m\u001b[0;31m:\u001b[0m invalid syntax\n"
     ]
    }
   ],
   "source": [
    "book names='advait'\n",
    "book names"
   ]
  },
  {
   "cell_type": "markdown",
   "id": "d4f0b900-f1c4-43a1-8b4c-a5791625def4",
   "metadata": {
    "tags": []
   },
   "source": [
    "### rules for naming variables"
   ]
  },
  {
   "cell_type": "markdown",
   "id": "87f304da-1604-4960-913a-bdd9c8231903",
   "metadata": {},
   "source": [
    "### case sensitive"
   ]
  },
  {
   "cell_type": "markdown",
   "id": "9eace6a8-27cd-4732-8c9c-1f3432a3f305",
   "metadata": {},
   "source": [
    "#### it should start with A-Z,a-z or _"
   ]
  },
  {
   "cell_type": "markdown",
   "id": "afa2264a-357e-4611-9f9c-a045ff538faf",
   "metadata": {},
   "source": [
    "####  it should not start with a number but can CONTAIN numbers"
   ]
  },
  {
   "cell_type": "code",
   "execution_count": null,
   "id": "d371e91f-db9e-46ea-ac97-baed465aed18",
   "metadata": {},
   "outputs": [],
   "source": []
  }
 ],
 "metadata": {
  "kernelspec": {
   "display_name": "Python 3 (ipykernel)",
   "language": "python",
   "name": "python3"
  },
  "language_info": {
   "codemirror_mode": {
    "name": "ipython",
    "version": 3
   },
   "file_extension": ".py",
   "mimetype": "text/x-python",
   "name": "python",
   "nbconvert_exporter": "python",
   "pygments_lexer": "ipython3",
   "version": "3.9.13"
  }
 },
 "nbformat": 4,
 "nbformat_minor": 5
}
